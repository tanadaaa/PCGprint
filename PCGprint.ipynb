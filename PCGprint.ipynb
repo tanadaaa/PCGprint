{
  "cells": [
    {
      "cell_type": "markdown",
      "metadata": {
        "id": "6z48ys0c_3s2"
      },
      "source": [
        "# ポケモンカードデッキ プロキシ印刷用PDF化\n",
        "\n",
        "**作成者：tanadaaa**  \n",
        "X:@tanadaaa29\n",
        "\n",
        "> **注意**\n",
        "> - V-UNIONカードは未対応の場合があります。\n",
        "> - Pythonやライブラリのバージョンを固定していません。動作しなくなった場合はご連絡ください。\n",
        "\n",
        "## 使い方\n",
        "1. 最下部のセルの方で、`deck_code = \"Syp2UX-QiBj4c-pSyypM\"` のようにデッキコードを設定します  \n",
        "2. すべてのセルを上から順に実行してください  \n",
        "3. 実行完了後、左側のファイルビューの`deck`フォルダ内にPDFが出力されます。自動でダウンロードしたい場合は、最下部のセル内の指示に従って#を外してください。\n"
      ]
    },
    {
      "cell_type": "code",
      "execution_count": null,
      "metadata": {
        "id": "FDZlMaYsAuo5"
      },
      "outputs": [],
      "source": [
        "!uv pip install reportlab"
      ]
    },
    {
      "cell_type": "code",
      "execution_count": null,
      "metadata": {
        "id": "d9jlgbeXGEkH"
      },
      "outputs": [],
      "source": [
        "import os\n",
        "\n",
        "os.makedirs('decks', exist_ok=True)"
      ]
    },
    {
      "cell_type": "code",
      "execution_count": null,
      "metadata": {
        "id": "5jurwTpS3p9y"
      },
      "outputs": [],
      "source": [
        "import sys\n",
        "import re\n",
        "import requests\n",
        "import time\n",
        "import random\n",
        "from tqdm.auto import tqdm\n",
        "from bs4 import BeautifulSoup\n",
        "from urllib.parse import urljoin\n",
        "from reportlab.pdfgen import canvas\n",
        "from reportlab.lib.pagesizes import A4\n",
        "from reportlab.lib.units import mm\n",
        "from reportlab.lib.utils import ImageReader\n",
        "from google.colab import files\n",
        "\n",
        "BASE_URL = \"https://www.pokemon-card.com\"\n",
        "\n",
        "def scrape_deck_with_images(deck_code: str):\n",
        "    \"\"\"\n",
        "    deck_code → [\n",
        "      {\"id\":\"45199\",\"count\":3,\"image_url\":\"...045199_P_TAKERURAIKOEX.jpg\"},\n",
        "      …\n",
        "    ]\n",
        "    デッキコードエラー時は ValueError を投げます。\n",
        "    \"\"\"\n",
        "    url = f\"{BASE_URL}/deck/result.html/deckID/{deck_code}/\"\n",
        "    resp = requests.get(url)\n",
        "    resp.encoding = resp.apparent_encoding\n",
        "    soup = BeautifulSoup(resp.text, \"html.parser\")\n",
        "\n",
        "    # デッキコードエラー判定\n",
        "    h1 = soup.find(\"h1\", class_=\"Heading1\")\n",
        "    if h1 and \"デッキコードエラー\" in h1.text:\n",
        "        raise ValueError(\"デッキコードエラー\")\n",
        "\n",
        "    # inputArea からカードID＋枚数 を取得\n",
        "    form = soup.find(\"form\", id=\"inputArea\")\n",
        "    if not form:\n",
        "        raise RuntimeError(\"inputArea が見つかりませんでした。\")\n",
        "\n",
        "    deck_fields = [\n",
        "        \"deck_pke\", \"deck_gds\", \"deck_tool\", \"deck_tech\",\n",
        "        \"deck_sup\", \"deck_sta\", \"deck_ene\", \"deck_ajs\"\n",
        "    ]\n",
        "    cards = []\n",
        "    for field in deck_fields:\n",
        "        inp = form.find(\"input\", id=field)\n",
        "        if not inp or not inp.get(\"value\"):\n",
        "            continue\n",
        "        for token in inp[\"value\"].split(\"-\"):\n",
        "            parts = token.split(\"_\")\n",
        "            card_id, count = parts[0], int(parts[1])\n",
        "            cards.append({\"id\": card_id, \"count\": count})\n",
        "\n",
        "    # JS 部分から画像URL を抜き出し\n",
        "    all_scripts = \"\".join(s.string or \"\" for s in soup.find_all(\"script\"))\n",
        "    pattern = re.compile(r\"PCGDECK\\.searchItemCardPict\\[(\\d+)\\]='([^']+)';\")\n",
        "    mapping = {\n",
        "        m.group(1): urljoin(BASE_URL, m.group(2))\n",
        "        for m in pattern.finditer(all_scripts)\n",
        "    }\n",
        "\n",
        "    # 各エントリに image_url を付与\n",
        "    for c in cards:\n",
        "        c[\"image_url\"] = mapping.get(\n",
        "            c[\"id\"],\n",
        "            urljoin(BASE_URL, \"/assets/images/noimage/poke_ura.jpg\")\n",
        "        )\n",
        "    return cards\n",
        "\n",
        "def generate_deck_pdf(deck_code: str, output_pdf: str):\n",
        "    # スクレイプ\n",
        "    cards = scrape_deck_with_images(deck_code)\n",
        "\n",
        "    # 画像を一度だけキャッシュ\n",
        "    session = requests.Session()\n",
        "    # User-Agentを設定\n",
        "    session.headers.update({\n",
        "        'User-Agent': 'Mozilla/5.0 (Windows NT 10.0; Win64; x64) AppleWebKit/537.36'\n",
        "    })\n",
        "\n",
        "    img_cache = {}\n",
        "    for c in tqdm(cards, desc=\"Downloading images\"):\n",
        "        url = c[\"image_url\"]\n",
        "        if url not in img_cache:\n",
        "            time.sleep(random.uniform(0.1, 0.3))\n",
        "            r = session.get(url, stream=True, timeout=10)\n",
        "            r.raise_for_status()\n",
        "            img_cache[url] = ImageReader(r.raw)\n",
        "\n",
        "    # 平坦化して60枚分のリストを作成\n",
        "    flattened = []\n",
        "    for c in cards:\n",
        "        flattened += [c[\"image_url\"]] * c[\"count\"]\n",
        "\n",
        "    # PDF 作成\n",
        "    c = canvas.Canvas(output_pdf, pagesize=A4)\n",
        "    margin_x = 10.5 * mm   # 左右マージン\n",
        "    margin_y = 16.5 * mm   # 上下マージン\n",
        "    card_w   = 63   * mm\n",
        "    card_h   = 88   * mm\n",
        "    per_page = 9\n",
        "\n",
        "    for idx, img_url in tqdm(enumerate(flattened), desc=\"Generating PDF\", total=len(flattened)):\n",
        "        if idx % per_page == 0 and idx > 0:\n",
        "            c.showPage()\n",
        "        pos = idx % per_page\n",
        "        col = pos % 3\n",
        "        row = pos // 3\n",
        "        x = margin_x + col * card_w\n",
        "        y = margin_y + (2 - row) * card_h\n",
        "        c.drawImage(img_cache[img_url], x, y, width=card_w, height=card_h)\n",
        "\n",
        "    c.save()\n"
      ]
    },
    {
      "cell_type": "markdown",
      "metadata": {
        "id": "1PzaL1u_BG79"
      },
      "source": [
        "## デッキコードを指定"
      ]
    },
    {
      "cell_type": "code",
      "execution_count": null,
      "metadata": {
        "id": "gyhRac6uB-tQ"
      },
      "outputs": [],
      "source": [
        "# この\" \"で囲まれた部分の文字列を書き換える\n",
        "deck_code = \"YYx4D8-ou796p-xY88cc\""
      ]
    },
    {
      "cell_type": "code",
      "execution_count": null,
      "metadata": {
        "id": "2rqXYl-q6GX2"
      },
      "outputs": [],
      "source": [
        "output_pdf = f\"decks/{deck_code}.pdf\"\n",
        "\n",
        "try:\n",
        "    generate_deck_pdf(deck_code, output_pdf)\n",
        "    print(\"PDF を生成しました:\", output_pdf)\n",
        "    #files.download(output_pdf) # 勝手にダウンロードされる設定をオンにしたければ、先頭の#を削除してください。\n",
        "except Exception as e:\n",
        "    print(\"エラーが発生しました:\", e)\n"
      ]
    },
    {
      "cell_type": "code",
      "execution_count": null,
      "metadata": {
        "id": "KValLbTvceLW"
      },
      "outputs": [],
      "source": []
    }
  ],
  "metadata": {
    "colab": {
      "provenance": []
    },
    "kernelspec": {
      "display_name": "Python 3",
      "name": "python3"
    },
    "language_info": {
      "name": "python"
    }
  },
  "nbformat": 4,
  "nbformat_minor": 0
}
